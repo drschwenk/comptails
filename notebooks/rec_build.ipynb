{
 "cells": [
  {
   "cell_type": "code",
   "execution_count": 24,
   "metadata": {
    "collapsed": false
   },
   "outputs": [
    {
     "name": "stdout",
     "output_type": "stream",
     "text": [
      "The autoreload extension is already loaded. To reload it, use:\n",
      "  %reload_ext autoreload\n"
     ]
    }
   ],
   "source": [
    "from __future__ import division\n",
    "import numpy as np\n",
    "import pandas as pd\n",
    "import scipy.stats as st\n",
    "import itertools\n",
    "import math\n",
    "from collections import Counter, defaultdict\n",
    "%load_ext autoreload\n",
    "%autoreload 2"
   ]
  },
  {
   "cell_type": "code",
   "execution_count": 76,
   "metadata": {
    "collapsed": false
   },
   "outputs": [],
   "source": [
    "import cPickle as pickle\n",
    "from itertools import permutations, combinations\n",
    "from fuzzywuzzy import fuzz, process\n",
    "from project_modules.flavorNetwork.recipe_weights import compute_all_weights, compute_single_avg_weight\n",
    "from project_modules.flavorNetwork.IngredientMatcher import IngredientMatcher\n",
    "from project_modules.flavorNetwork.recommender import FlavorRecommender\n",
    "from project_modules.flavorNetwork.load_data import load_data"
   ]
  },
  {
   "cell_type": "markdown",
   "metadata": {},
   "source": [
    "## testing recommender"
   ]
  },
  {
   "cell_type": "code",
   "execution_count": 88,
   "metadata": {
    "collapsed": true
   },
   "outputs": [],
   "source": [
    "data_dir = '../../data/'"
   ]
  },
  {
   "cell_type": "code",
   "execution_count": null,
   "metadata": {
    "collapsed": true
   },
   "outputs": [],
   "source": [
    "my_rec = FlavorRecommender(comp_ing_dict, edge_dict, all_recipes, True)"
   ]
  },
  {
   "cell_type": "code",
   "execution_count": 103,
   "metadata": {
    "collapsed": false
   },
   "outputs": [],
   "source": [
    "# data_dir = '/Users/schwenk/projects/sf_Blog/pkld_data/'\n",
    "comp_ing_dict, edge_dict, all_recipes, pre_match_dict = load_data(data_dir)"
   ]
  },
  {
   "cell_type": "code",
   "execution_count": 104,
   "metadata": {
    "collapsed": false
   },
   "outputs": [
    {
     "data": {
      "text/plain": [
       "946"
      ]
     },
     "execution_count": 104,
     "metadata": {},
     "output_type": "execute_result"
    }
   ],
   "source": [
    "len(pre_match_dict)"
   ]
  },
  {
   "cell_type": "code",
   "execution_count": 183,
   "metadata": {
    "collapsed": false
   },
   "outputs": [
    {
     "data": {
      "text/plain": [
       "[(u'manzanilla sherry', 'gin'),\n",
       " (u'chocolate bitters', 'gin'),\n",
       " (u'apple', 'lemon'),\n",
       " (u'cranberries', 'gin')]"
      ]
     },
     "execution_count": 183,
     "metadata": {},
     "output_type": "execute_result"
    }
   ],
   "source": [
    "new_rec = FlavorRecommender(comp_ing_dict, edge_dict, all_recipes, pre_match_dict)\n",
    "\n",
    "new_drink = 'gin, lemon'\n",
    "new_rec.make_rec(new_drink, 15)"
   ]
  },
  {
   "cell_type": "code",
   "execution_count": 95,
   "metadata": {
    "collapsed": true
   },
   "outputs": [
    {
     "name": "stdout",
     "output_type": "stream",
     "text": [
      "[u'lime', u'lemon', u'orange', u'Hella Bitter citrus bitters', u'light rum', u'Campari', u'Moscato'] [(u'pumpkin beer', u'lemon'), (u'crystallized ginger', u'orange'), (u'chocolate bitters', u'lemon'), (u'pineapple', u'lemon')]\n",
      "\n",
      "\n",
      "[u'Campari', u'grapefruit peel', u'ruby red grapefruit', u'ruby red grapefruit juice', u'sweet vermouth', u'Gin,'] [(u'apple', u'ruby red grapefruit juice'), (u'pepper', u'Gin,'), (u'pineapple puree', u'ruby red grapefruit'), (u'apple', u'Gin,')]\n",
      "\n",
      "\n",
      "[u'Angostura Bitters', u'cherry', u'sweet vermouth', u'Scotch,'] [(u'Angostura Bitters', u'sweet vermouth'), (u'Angostura Bitters', u'Scotch,'), (u'sweet vermouth', u'Angostura Bitters'), (u'Angostura Bitters', u'sweet vermouth')]\n",
      "\n",
      "\n",
      "[u'grapefruit juice', u'hibiscus tea', u'sugar', u'Yellow Chartreuse', u'Pisco'] [(u'pumpkin beer', u'grapefruit juice'), (u'chocolate bitters', u'grapefruit juice'), (u'peach bitters', u'Yellow Chartreuse'), (u'mango nectar', u'Yellow Chartreuse')]\n",
      "\n",
      "\n",
      "[u'Lemon-lime soda', u'mint', u'orange', u'orange liqueur', u'Absinthe'] [(u'root beer', u'mint'), (u'peach bitters', u'Lemon-lime soda'), (u'grape', u'orange'), (u'peach bitters', u'orange liqueur')]\n",
      "\n",
      "\n"
     ]
    }
   ],
   "source": [
    "for recipe in all_recipes.keys()[:5]:\n",
    "    print all_recipes[recipe],\n",
    "    print new_rec.make_rec(all_recipes[recipe], 10)\n",
    "    print '\\n'\n",
    "    "
   ]
  },
  {
   "cell_type": "code",
   "execution_count": null,
   "metadata": {
    "collapsed": true
   },
   "outputs": [],
   "source": []
  }
 ],
 "metadata": {
  "kernelspec": {
   "display_name": "Python 2",
   "language": "python",
   "name": "python2"
  },
  "language_info": {
   "codemirror_mode": {
    "name": "ipython",
    "version": 2
   },
   "file_extension": ".py",
   "mimetype": "text/x-python",
   "name": "python",
   "nbconvert_exporter": "python",
   "pygments_lexer": "ipython2",
   "version": "2.7.10"
  }
 },
 "nbformat": 4,
 "nbformat_minor": 0
}
