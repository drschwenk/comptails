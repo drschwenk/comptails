{
 "cells": [
  {
   "cell_type": "code",
   "execution_count": 2,
   "metadata": {
    "collapsed": false
   },
   "outputs": [
    {
     "name": "stdout",
     "output_type": "stream",
     "text": [
      "The autoreload extension is already loaded. To reload it, use:\n",
      "  %reload_ext autoreload\n"
     ]
    }
   ],
   "source": [
    "from __future__ import division\n",
    "import numpy as np\n",
    "import pandas as pd\n",
    "import scipy.stats as st\n",
    "import itertools\n",
    "import math\n",
    "from collections import Counter, defaultdict\n",
    "%load_ext autoreload\n",
    "%autoreload 2"
   ]
  },
  {
   "cell_type": "markdown",
   "metadata": {},
   "source": [
    "# Scraping liquor.com"
   ]
  },
  {
   "cell_type": "code",
   "execution_count": 24,
   "metadata": {
    "collapsed": false
   },
   "outputs": [],
   "source": [
    "from scrapers.ldc_scraper import ldc_scraper"
   ]
  },
  {
   "cell_type": "code",
   "execution_count": 25,
   "metadata": {
    "collapsed": true
   },
   "outputs": [],
   "source": [
    "this_scraper = ldc_scraper()"
   ]
  },
  {
   "cell_type": "code",
   "execution_count": 26,
   "metadata": {
    "collapsed": false
   },
   "outputs": [],
   "source": [
    "this_scraper.get_recipe_links()"
   ]
  },
  {
   "cell_type": "code",
   "execution_count": 27,
   "metadata": {
    "collapsed": true
   },
   "outputs": [
    {
     "data": {
      "text/plain": [
       "[u'http://liquor.com/recipes/pisco-sour-2/',\n",
       " u'http://liquor.com/recipes/pisco-sour-2/',\n",
       " u'http://liquor.com/recipes/wagyu-cocktail/',\n",
       " u'http://liquor.com/recipes/wagyu-cocktail/',\n",
       " u'http://liquor.com/recipes/the-dana-scully/',\n",
       " u'http://liquor.com/recipes/the-dana-scully/',\n",
       " u'http://liquor.com/recipes/the-fox-mulder/',\n",
       " u'http://liquor.com/recipes/the-fox-mulder/',\n",
       " u'http://liquor.com/recipes/salty-ginger-ade/',\n",
       " u'http://liquor.com/recipes/salty-ginger-ade/',\n",
       " u'http://liquor.com/recipes/puerto-vallarta/',\n",
       " u'http://liquor.com/recipes/puerto-vallarta/',\n",
       " u'http://liquor.com/recipes/fennel-75/',\n",
       " u'http://liquor.com/recipes/fennel-75/',\n",
       " u'http://liquor.com/recipes/celery-daisy/',\n",
       " u'http://liquor.com/recipes/celery-daisy/',\n",
       " u'http://liquor.com/recipes/lawless-liter/',\n",
       " u'http://liquor.com/recipes/lawless-liter/',\n",
       " u'http://liquor.com/recipes/the-aristocrat/',\n",
       " u'http://liquor.com/recipes/the-aristocrat/',\n",
       " u'http://liquor.com/recipes/kir-royale/',\n",
       " u'http://liquor.com/recipes/kir-royale/',\n",
       " u'http://liquor.com/recipes/pear-brandy-sidecar/',\n",
       " u'http://liquor.com/recipes/pear-brandy-sidecar/',\n",
       " u'http://liquor.com/recipes/surf-and-sand/',\n",
       " u'http://liquor.com/recipes/surf-and-sand/',\n",
       " u'http://liquor.com/recipes/copper-kings-brandy-old-fashioned/',\n",
       " u'http://liquor.com/recipes/copper-kings-brandy-old-fashioned/',\n",
       " u'http://liquor.com/recipes/sparkling-apple-punch/',\n",
       " u'http://liquor.com/recipes/sparkling-apple-punch/',\n",
       " u'http://liquor.com/recipes/sandeman-sparkler/',\n",
       " u'http://liquor.com/recipes/sandeman-sparkler/',\n",
       " u'http://liquor.com/recipes/ciderhouse-punch/',\n",
       " u'http://liquor.com/recipes/ciderhouse-punch/',\n",
       " u'http://liquor.com/recipes/beelzebub/',\n",
       " u'http://liquor.com/recipes/beelzebub/',\n",
       " u'http://liquor.com/recipes/5-keys/',\n",
       " u'http://liquor.com/recipes/5-keys/',\n",
       " u'http://liquor.com/recipes/blue-milk-of-tatooine/',\n",
       " u'http://liquor.com/recipes/blue-milk-of-tatooine/']"
      ]
     },
     "execution_count": 27,
     "metadata": {},
     "output_type": "execute_result"
    }
   ],
   "source": [
    "this_scraper.get_recipes()"
   ]
  }
 ],
 "metadata": {
  "kernelspec": {
   "display_name": "Python 2",
   "language": "python",
   "name": "python2"
  },
  "language_info": {
   "codemirror_mode": {
    "name": "ipython",
    "version": 2
   },
   "file_extension": ".py",
   "mimetype": "text/x-python",
   "name": "python",
   "nbconvert_exporter": "python",
   "pygments_lexer": "ipython2",
   "version": "2.7.10"
  }
 },
 "nbformat": 4,
 "nbformat_minor": 0
}
