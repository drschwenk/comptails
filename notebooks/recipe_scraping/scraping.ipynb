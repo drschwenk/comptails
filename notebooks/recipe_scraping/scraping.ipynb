{
 "cells": [
  {
   "cell_type": "code",
   "execution_count": 1,
   "metadata": {},
   "outputs": [],
   "source": [
    "from __future__ import division\n",
    "import numpy as np\n",
    "import pandas as pd\n",
    "import scipy.stats as st\n",
    "import itertools\n",
    "import math\n",
    "from collections import Counter, defaultdict\n",
    "%load_ext autoreload\n",
    "%autoreload 2"
   ]
  },
  {
   "cell_type": "code",
   "execution_count": 130,
   "metadata": {},
   "outputs": [],
   "source": [
    "from bs4 import BeautifulSoup\n",
    "import requests\n",
    "import cPickle as pickle\n",
    "import re"
   ]
  },
  {
   "cell_type": "markdown",
   "metadata": {},
   "source": [
    "# Scraping example"
   ]
  },
  {
   "cell_type": "markdown",
   "metadata": {},
   "source": [
    "## Read and writing pickle files"
   ]
  },
  {
   "cell_type": "code",
   "execution_count": null,
   "metadata": {},
   "outputs": [],
   "source": [
    "with open('recipes.pkl', 'w') as f:\n",
    "    pickle.dump(recipe_list,f )"
   ]
  },
  {
   "cell_type": "code",
   "execution_count": 217,
   "metadata": {},
   "outputs": [],
   "source": [
    "# with open('drink_links.pkl', 'r') as f:\n",
    "#     test_p = pickle.load(f)"
   ]
  },
  {
   "cell_type": "code",
   "execution_count": null,
   "metadata": {},
   "outputs": [],
   "source": [
    "drink_links = []\n",
    "url_first = 'http://liquor.com/?post_type=recipe&s='\n",
    "url_rest_1 = 'http://liquor.com/page/'\n",
    "url_rest_2 = '/?post_type=recipe&s#038;s'\n",
    "\n",
    "r = requests.get(url_first)\n",
    "soup = BeautifulSoup(r._content, 'html.parser')\n",
    "results = soup.find_all('a')\n",
    "\n",
    "for i in results:\n",
    "    if '/recipes/' in i['href'] and 'http' in i['href']:\n",
    "            drink_links.append(i['href'])\n",
    "\n",
    "for n in range(2,124):\n",
    "    url = url_rest_1 + str(n) + url_rest_2\n",
    "    r = requests.get(url)\n",
    "    soup = BeautifulSoup(r._content, 'html.parser')\n",
    "    results = soup.find_all('a')\n",
    "    for i in results:\n",
    "        if '/recipes/' in i['href'] and 'http' in i['href']:\n",
    "            drink_links.append(i['href'])\n",
    "\n",
    "drink_links = list(set(drink_links))"
   ]
  },
  {
   "cell_type": "code",
   "execution_count": 208,
   "metadata": {},
   "outputs": [],
   "source": [
    "def get_recipe(url):\n",
    "    drink_recipe_dict = {}\n",
    "    r = requests.get(url)\n",
    "    soup = BeautifulSoup(r._content, 'html.parser')\n",
    "    ingredients = soup.findAll(\"meta\", {'name':'other.ingredients'})[0].prettify().split('\"')[1].split(',')\n",
    "    ingredients = [i.strip()for i in ingredients]\n",
    "    drink_base = soup.findAll(\"meta\", {'name':'sailthru.base'})[0].prettify().split()[1].split('\"')[1]\n",
    "    ingredients.append(drink_base)\n",
    "    drink_name = soup.findAll(\"meta\", {'property':'og:title'})[0].prettify().split('\"')[1]\n",
    "    drink_recipe_dict[drink_name] = ingredients\n",
    "    return drink_recipe_dict\n",
    "\n",
    "recipe_list = []\n",
    "\n",
    "for i in range(0,1220, 10):\n",
    "    for link in drink_links[i:i+10]:\n",
    "        recipe_list.append(get_recipe(link))"
   ]
  }
 ],
 "metadata": {
  "kernelspec": {
   "display_name": "Python 2",
   "language": "python",
   "name": "python2"
  },
  "language_info": {
   "codemirror_mode": {
    "name": "ipython",
    "version": 2.0
   },
   "file_extension": ".py",
   "mimetype": "text/x-python",
   "name": "python",
   "nbconvert_exporter": "python",
   "pygments_lexer": "ipython2",
   "version": "2.7.10"
  }
 },
 "nbformat": 4,
 "nbformat_minor": 0
}