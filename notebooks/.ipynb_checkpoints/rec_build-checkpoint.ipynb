{
 "cells": [
  {
   "cell_type": "code",
   "execution_count": 1,
   "metadata": {
    "collapsed": false
   },
   "outputs": [],
   "source": [
    "from __future__ import division\n",
    "import numpy as np\n",
    "import pandas as pd\n",
    "import scipy.stats as st\n",
    "import itertools\n",
    "import math\n",
    "from collections import Counter, defaultdict\n",
    "%load_ext autoreload\n",
    "%autoreload 2"
   ]
  },
  {
   "cell_type": "code",
   "execution_count": 5,
   "metadata": {
    "collapsed": false
   },
   "outputs": [
    {
     "name": "stdout",
     "output_type": "stream",
     "text": [
      "The base16_mplrc extension is already loaded. To reload it, use:\n",
      "  %reload_ext base16_mplrc\n",
      "Setting plotting theme to default-light. Palette available in b16_colors\n"
     ]
    }
   ],
   "source": [
    "import matplotlib.pylab as plt\n",
    "import matplotlib as mpl\n",
    "plt.rcParams['figure.figsize'] = (12.0, 6.0)\n",
    "#%matplotlib notebook\n",
    "%matplotlib inline\n",
    "%load_ext base16_mplrc\n",
    "%base16_mplrc light default"
   ]
  },
  {
   "cell_type": "code",
   "execution_count": 9,
   "metadata": {
    "collapsed": true
   },
   "outputs": [],
   "source": [
    "import cPickle as pickle\n",
    "from itertools import permutations, combinations\n",
    "from fuzzywuzzy import fuzz, process\n",
    "from project_modules.flavorNetworkBuilder.recipe_weights import compute_all_weights, match_ingredients, compute_single_avg_weight"
   ]
  },
  {
   "cell_type": "code",
   "execution_count": 256,
   "metadata": {
    "collapsed": true
   },
   "outputs": [],
   "source": [
    "from collections import deque"
   ]
  },
  {
   "cell_type": "markdown",
   "metadata": {},
   "source": [
    "## testing recommender"
   ]
  },
  {
   "cell_type": "code",
   "execution_count": 14,
   "metadata": {
    "collapsed": true
   },
   "outputs": [],
   "source": [
    "def get_range(dictionary, begin, end):\n",
    "  return dict(itertools.islice(dictionary.iteritems(), begin, end+1)) "
   ]
  },
  {
   "cell_type": "code",
   "execution_count": 26,
   "metadata": {
    "collapsed": false
   },
   "outputs": [
    {
     "name": "stdout",
     "output_type": "stream",
     "text": [
      "backbone_edges_dict.pkl   full_edges_dict.pkl\r\n",
      "doc_joined.pkl            recipes.pkl\r\n",
      "doc_split.pkl             second_ing_flav_dict.pkl\r\n",
      "drink_links.pkl           \u001b[1m\u001b[34msuperseded_data\u001b[m\u001b[m/\r\n",
      "\u001b[1m\u001b[34mfrom_paper\u001b[m\u001b[m/\r\n"
     ]
    }
   ],
   "source": [
    "ls ../../data"
   ]
  },
  {
   "cell_type": "code",
   "execution_count": 10,
   "metadata": {
    "collapsed": true
   },
   "outputs": [],
   "source": [
    "data_dir = '../../data/'"
   ]
  },
  {
   "cell_type": "code",
   "execution_count": 31,
   "metadata": {
    "collapsed": false
   },
   "outputs": [],
   "source": [
    "file_name = 'ldc_recipes.pkl'\n",
    "with open(data_dir+file_name, 'r') as f:\n",
    "    ldc_recipes  = pickle.load(f)\n",
    "    \n",
    "file_name = 'nyt_recipes.pkl'\n",
    "with open(data_dir+file_name, 'r') as f:\n",
    "    nyt_recipes  = pickle.load(f)"
   ]
  },
  {
   "cell_type": "code",
   "execution_count": 50,
   "metadata": {
    "collapsed": false
   },
   "outputs": [],
   "source": [
    "all_recipes = {}\n",
    "for cocktail in ldc_recipes:\n",
    "    all_recipes.update(cocktail)\n",
    "all_recipes.update(nyt_recipes)"
   ]
  },
  {
   "cell_type": "code",
   "execution_count": 63,
   "metadata": {
    "collapsed": false
   },
   "outputs": [],
   "source": [
    "file_name = 'second_ing_flav_dict.pkl'\n",
    "with open(data_dir+file_name, 'r') as f:\n",
    "    comp_ing_dict = pickle.load(f)"
   ]
  },
  {
   "cell_type": "code",
   "execution_count": 68,
   "metadata": {
    "collapsed": true
   },
   "outputs": [],
   "source": [
    "file_name = 'backbone_edges_dict.pkl'\n",
    "with open(data_dir+file_name) as f:\n",
    "    edge_dict = pickle.load(f)"
   ]
  },
  {
   "cell_type": "code",
   "execution_count": 69,
   "metadata": {
    "collapsed": false
   },
   "outputs": [],
   "source": [
    "file_name = 'full_edges_dict.pkl'\n",
    "with open(data_dir+file_name) as f:\n",
    "    full_edge_dict = pickle.load(f)"
   ]
  },
  {
   "cell_type": "code",
   "execution_count": 141,
   "metadata": {
    "collapsed": false
   },
   "outputs": [],
   "source": [
    "file_name = 'match_dict.pkl'\n",
    "with open(data_dir+file_name) as f:\n",
    "    match_dict = pickle.load(f)"
   ]
  },
  {
   "cell_type": "code",
   "execution_count": 18,
   "metadata": {
    "collapsed": false
   },
   "outputs": [],
   "source": [
    "with open('./avg_recipe_weights.pkl', 'r') as f:\n",
    "    avg_w = pickle.load(f)\n",
    "with open('./new_avg_recipe_weights.pkl', 'r') as f:\n",
    "    new_avg_w = pickle.load(f)"
   ]
  },
  {
   "cell_type": "code",
   "execution_count": 19,
   "metadata": {
    "collapsed": true
   },
   "outputs": [],
   "source": [
    "with open('./random_weights_new.pkl', 'r') as f:\n",
    "    random_weights = pickle.load(f)"
   ]
  },
  {
   "cell_type": "code",
   "execution_count": 20,
   "metadata": {
    "collapsed": false
   },
   "outputs": [],
   "source": [
    "with open('./new_avg_recipe_weights.pkl', 'r') as f:\n",
    "    avg_recipe = pickle.load(f)\n",
    "    \n",
    "with open('./new_avg_random_weights.pkl', 'r') as f:\n",
    "    avg_random = pickle.load(f)"
   ]
  },
  {
   "cell_type": "code",
   "execution_count": 52,
   "metadata": {
    "collapsed": false
   },
   "outputs": [],
   "source": [
    "cocktail_ing_lists = all_recipes.values()\n",
    "cocktail_set = set([i.strip().lower() for sublist in cocktail_ing_lists for i in sublist if i])"
   ]
  },
  {
   "cell_type": "code",
   "execution_count": 62,
   "metadata": {
    "collapsed": false
   },
   "outputs": [
    {
     "data": {
      "text/plain": [
       "1442"
      ]
     },
     "execution_count": 62,
     "metadata": {},
     "output_type": "execute_result"
    }
   ],
   "source": [
    "len(cocktail_set)"
   ]
  },
  {
   "cell_type": "code",
   "execution_count": 39,
   "metadata": {
    "collapsed": false
   },
   "outputs": [],
   "source": [
    "match_dict = {k:match_ingredients([k], comp_ing_dict) for k in unique_ing_list}"
   ]
  },
  {
   "cell_type": "code",
   "execution_count": null,
   "metadata": {
    "collapsed": false
   },
   "outputs": [],
   "source": [
    "%prun {k:match_ingredients([k], comp_ing_dict) for k in unique_ing_list}"
   ]
  },
  {
   "cell_type": "code",
   "execution_count": 70,
   "metadata": {
    "collapsed": false
   },
   "outputs": [
    {
     "data": {
      "text/plain": [
       "[u'whiskey',\n",
       " u'the basic fractions of whiskey',\n",
       " u'malt whiskey',\n",
       " u'canadian whiskey',\n",
       " u'japanese whiskey']"
      ]
     },
     "execution_count": 70,
     "metadata": {},
     "output_type": "execute_result"
    }
   ],
   "source": [
    "match_ingredients(['whiskey'], comp_ing_dict)"
   ]
  },
  {
   "cell_type": "code",
   "execution_count": null,
   "metadata": {
    "collapsed": true
   },
   "outputs": [],
   "source": []
  },
  {
   "cell_type": "code",
   "execution_count": 59,
   "metadata": {
    "collapsed": true
   },
   "outputs": [],
   "source": [
    "with open('./match_dict.pkl', 'w')  as f:\n",
    "    pickle.dump(match_dict, f)"
   ]
  },
  {
   "cell_type": "code",
   "execution_count": 96,
   "metadata": {
    "collapsed": true
   },
   "outputs": [],
   "source": [
    "small_match_dict  = {k:match_ingredients([k], comp_ing_dict) for k in ['rye whiskey', 'orange']}"
   ]
  },
  {
   "cell_type": "code",
   "execution_count": 180,
   "metadata": {
    "collapsed": false
   },
   "outputs": [
    {
     "data": {
      "text/plain": [
       "[u'ardbeg whisky',\n",
       " u'coco lopez cream of coconut',\n",
       " u'amaro montenegro',\n",
       " u'grape juice']"
      ]
     },
     "execution_count": 180,
     "metadata": {},
     "output_type": "execute_result"
    }
   ],
   "source": [
    "cocktail_set_list"
   ]
  },
  {
   "cell_type": "code",
   "execution_count": 275,
   "metadata": {
    "collapsed": false
   },
   "outputs": [],
   "source": [
    "%page all_recipes"
   ]
  },
  {
   "cell_type": "code",
   "execution_count": 189,
   "metadata": {
    "collapsed": false
   },
   "outputs": [],
   "source": [
    "cocktail_set_list = list(cocktail_set)"
   ]
  },
  {
   "cell_type": "code",
   "execution_count": 343,
   "metadata": {
    "collapsed": false
   },
   "outputs": [],
   "source": [
    "filter_list = ['chocolate bitters', u'pineapple', 'pineapple puree', 'apple','ginger beer','peach bitters','mango nectar']"
   ]
  },
  {
   "cell_type": "code",
   "execution_count": 344,
   "metadata": {
    "collapsed": false
   },
   "outputs": [],
   "source": [
    "# ingred_opt(all_recipes['Elderflower Martini'])"
   ]
  },
  {
   "cell_type": "code",
   "execution_count": 345,
   "metadata": {
    "collapsed": false
   },
   "outputs": [],
   "source": [
    "def ingred_opt(drink_recipe):\n",
    "    max_score = ('max_ingrd', 0)\n",
    "    for ingredient in cocktail_set_list:\n",
    "        score = 0\n",
    "        pairings = permutations(drink_recipe + [ingredient], 2)\n",
    "        for pair in pairings:\n",
    "            try:\n",
    "                score += compute_single_avg_weight(pair, comp_ing_dict, edge_dict, match_dict)\n",
    "            except KeyError:\n",
    "                pass\n",
    "        if score > max_score[1] and ingredient not in filter_list:\n",
    "            max_score = (ingredient, score)\n",
    "    return max_score"
   ]
  },
  {
   "cell_type": "code",
   "execution_count": 368,
   "metadata": {
    "collapsed": false
   },
   "outputs": [],
   "source": [
    "new_drink = ['gin', 'cucumber', 'lemon' ]"
   ]
  },
  {
   "cell_type": "code",
   "execution_count": 369,
   "metadata": {
    "collapsed": false
   },
   "outputs": [
    {
     "data": {
      "text/plain": [
       "(u'cardamom bitters', 216.0)"
      ]
     },
     "execution_count": 369,
     "metadata": {},
     "output_type": "execute_result"
    }
   ],
   "source": [
    "ingred_opt(new_drink)"
   ]
  },
  {
   "cell_type": "code",
   "execution_count": null,
   "metadata": {
    "collapsed": true
   },
   "outputs": [],
   "source": []
  },
  {
   "cell_type": "code",
   "execution_count": null,
   "metadata": {
    "collapsed": true
   },
   "outputs": [],
   "source": []
  }
 ],
 "metadata": {
  "kernelspec": {
   "display_name": "Python 2",
   "language": "python",
   "name": "python2"
  },
  "language_info": {
   "codemirror_mode": {
    "name": "ipython",
    "version": 2
   },
   "file_extension": ".py",
   "mimetype": "text/x-python",
   "name": "python",
   "nbconvert_exporter": "python",
   "pygments_lexer": "ipython2",
   "version": "2.7.10"
  }
 },
 "nbformat": 4,
 "nbformat_minor": 0
}
