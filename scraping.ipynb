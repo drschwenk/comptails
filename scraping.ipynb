{
 "cells": [
  {
   "cell_type": "code",
   "execution_count": 1,
   "metadata": {
    "collapsed": true
   },
   "outputs": [],
   "source": [
    "from __future__ import division\n",
    "import numpy as np\n",
    "import pandas as pd\n",
    "import scipy.stats as st\n",
    "import itertools\n",
    "import math\n",
    "from collections import Counter, defaultdict\n",
    "%load_ext autoreload\n",
    "%autoreload 2"
   ]
  },
  {
   "cell_type": "code",
   "execution_count": 130,
   "metadata": {
    "collapsed": true
   },
   "outputs": [],
   "source": [
    "from bs4 import BeautifulSoup\n",
    "import requests\n",
    "import cPickle as pickle\n",
    "import re"
   ]
  },
  {
   "cell_type": "code",
   "execution_count": 40,
   "metadata": {
    "collapsed": false
   },
   "outputs": [],
   "source": [
    "with open('drink_links.pkl', 'w') as f:\n",
    "    pickle.dump(drink_links,f )\n",
    "    \n",
    "with open('drink_links.pkl', 'r') as f:\n",
    "    test_p = pickle.load(f)"
   ]
  },
  {
   "cell_type": "code",
   "execution_count": 24,
   "metadata": {
    "collapsed": false
   },
   "outputs": [],
   "source": [
    "drink_links = []\n",
    "url_first = 'http://liquor.com/?post_type=recipe&s='\n",
    "url_rest_1 = 'http://liquor.com/page/'\n",
    "url_rest_2 = '/?post_type=recipe&s#038;s'"
   ]
  },
  {
   "cell_type": "code",
   "execution_count": 25,
   "metadata": {
    "collapsed": false
   },
   "outputs": [],
   "source": [
    "r = requests.get(url_first)\n",
    "soup = BeautifulSoup(r._content, 'html.parser')\n",
    "results = soup.find_all('a')\n",
    "\n",
    "for i in results:\n",
    "    if '/recipes/' in i['href'] and 'http' in i['href']:\n",
    "            drink_links.append(i['href'])"
   ]
  },
  {
   "cell_type": "code",
   "execution_count": 26,
   "metadata": {
    "collapsed": false
   },
   "outputs": [],
   "source": [
    "for n in range(2,124):\n",
    "    url = url_rest_1 + str(n) + url_rest_2\n",
    "    r = requests.get(url)\n",
    "    soup = BeautifulSoup(r._content, 'html.parser')\n",
    "    results = soup.find_all('a')\n",
    "    for i in results:\n",
    "        if '/recipes/' in i['href'] and 'http' in i['href']:\n",
    "            drink_links.append(i['href'])"
   ]
  },
  {
   "cell_type": "code",
   "execution_count": 34,
   "metadata": {
    "collapsed": false
   },
   "outputs": [],
   "source": [
    "drink_links = list(set(drink_links))\n",
    "len(drink_links)"
   ]
  },
  {
   "cell_type": "code",
   "execution_count": 44,
   "metadata": {
    "collapsed": false
   },
   "outputs": [],
   "source": [
    "drink_links[0]"
   ]
  },
  {
   "cell_type": "code",
   "execution_count": null,
   "metadata": {
    "collapsed": true
   },
   "outputs": [],
   "source": [
    "<meta name=\"other.ingredients\" content"
   ]
  },
  {
   "cell_type": "code",
   "execution_count": 45,
   "metadata": {
    "collapsed": true
   },
   "outputs": [],
   "source": [
    "url = drink_links[0]\n",
    "r = requests.get(url)\n",
    "soup = BeautifulSoup(r._content, 'html.parser')\n",
    "results = soup.find_all('a')"
   ]
  },
  {
   "cell_type": "code",
   "execution_count": 149,
   "metadata": {
    "collapsed": true
   },
   "outputs": [],
   "source": [
    "def get_recipe(url):\n",
    "    drink_recipe_dict = {}\n",
    "    r = requests.get(url)\n",
    "    soup = BeautifulSoup(r._content, 'html.parser')\n",
    "    ingredients = soup.findAll(\"meta\", {'name':'other.ingredients'})[0].prettify().split('\"')[1].split(',')\n",
    "    ingredients = [i.strip() for i in ingredients]\n",
    "    drink_name = soup.findAll(\"meta\", {'name':'sailthru.base'})[0].prettify().split()[1].split('\"')[1]\n",
    "    drink_recipe_dict[drink_name] = ingredients\n",
    "    return drink_recipe_dict"
   ]
  },
  {
   "cell_type": "code",
   "execution_count": 150,
   "metadata": {
    "collapsed": false
   },
   "outputs": [],
   "source": [
    "get_recipe(url)"
   ]
  },
  {
   "cell_type": "code",
   "execution_count": 146,
   "metadata": {
    "collapsed": false
   },
   "outputs": [],
   "source": [
    "soup.findAll(\"meta\", {'name':'other.ingredients'})\n",
    "#     ingredients =  meta.prettify().split('\"')[1].split(',')\n",
    "#     ingredients = [i.strip() for i in ingredients]"
   ]
  },
  {
   "cell_type": "code",
   "execution_count": 116,
   "metadata": {
    "collapsed": false
   },
   "outputs": [],
   "source": [
    "for meta in soup.findAll(\"meta\", {'name':'sailthru.base'}):\n",
    "    print meta.prettify().split()[1].split('\"')[1]"
   ]
  },
  {
   "cell_type": "code",
   "execution_count": null,
   "metadata": {
    "collapsed": true
   },
   "outputs": [],
   "source": [
    "property="
   ]
  },
  {
   "cell_type": "code",
   "execution_count": 139,
   "metadata": {
    "collapsed": false
   },
   "outputs": [],
   "source": [
    "for meta in soup.findAll(\"meta\", {'property':'og:title'}):\n",
    "    print meta.prettify().split('\"')[1]"
   ]
  },
  {
   "cell_type": "code",
   "execution_count": null,
   "metadata": {
    "collapsed": true
   },
   "outputs": [],
   "source": []
  }
 ],
 "metadata": {
  "kernelspec": {
   "display_name": "Python 2",
   "language": "python",
   "name": "python2"
  },
  "language_info": {
   "codemirror_mode": {
    "name": "ipython",
    "version": 2
   },
   "file_extension": ".py",
   "mimetype": "text/x-python",
   "name": "python",
   "nbconvert_exporter": "python",
   "pygments_lexer": "ipython2",
   "version": "2.7.10"
  }
 },
 "nbformat": 4,
 "nbformat_minor": 0
}
